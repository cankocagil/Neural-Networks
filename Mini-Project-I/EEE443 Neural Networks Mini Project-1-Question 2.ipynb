{
 "cells": [
  {
   "cell_type": "markdown",
   "metadata": {},
   "source": [
    "# Question 2"
   ]
  },
  {
   "cell_type": "raw",
   "metadata": {},
   "source": []
  },
  {
   "cell_type": "code",
   "execution_count": 1,
   "metadata": {},
   "outputs": [],
   "source": [
    "import numpy as np\n",
    "import matplotlib.pyplot as plt"
   ]
  },
  {
   "cell_type": "code",
   "execution_count": 2,
   "metadata": {},
   "outputs": [],
   "source": [
    "# 4 input Truth Label :\n",
    "input_features = np.array([[0,0,0,0],\n",
    "                           [0,0,0,1],\n",
    "                           [0,0,1,0],\n",
    "                           [0,0,1,1],\n",
    "                           [0,1,0,0],\n",
    "                           [0,1,0,1],\n",
    "                           [0,1,1,0],\n",
    "                           [0,1,1,1],\n",
    "                           [1,0,0,0],\n",
    "                           [1,0,0,1],\n",
    "                           [1,0,1,0],\n",
    "                           [1,0,1,1],\n",
    "                           [1,1,0,0],\n",
    "                           [1,1,0,1],\n",
    "                           [1,1,1,0],\n",
    "                           [1,1,1,1]])\n",
    "\n",
    "# Their correspoding outputs :\n",
    "target_output = np.repeat(1,16).reshape(16,1)\n",
    "target_output[0] = 0"
   ]
  },
  {
   "cell_type": "code",
   "execution_count": 3,
   "metadata": {},
   "outputs": [
    {
     "name": "stdout",
     "output_type": "stream",
     "text": [
      " Shape of Input Array: (16, 4)\n"
     ]
    }
   ],
   "source": [
    "print(f\" Shape of Input Array: {input_features.shape}\")"
   ]
  },
  {
   "cell_type": "code",
   "execution_count": 4,
   "metadata": {},
   "outputs": [
    {
     "name": "stdout",
     "output_type": "stream",
     "text": [
      " Shape of Output Array: (16, 1)\n"
     ]
    }
   ],
   "source": [
    "print(f\" Shape of Output Array: {target_output.shape}\")"
   ]
  },
  {
   "cell_type": "code",
   "execution_count": null,
   "metadata": {},
   "outputs": [],
   "source": []
  },
  {
   "cell_type": "code",
   "execution_count": null,
   "metadata": {},
   "outputs": [],
   "source": []
  },
  {
   "cell_type": "code",
   "execution_count": null,
   "metadata": {},
   "outputs": [],
   "source": [
    "\n"
   ]
  },
  {
   "cell_type": "code",
   "execution_count": 5,
   "metadata": {},
   "outputs": [],
   "source": [
    "class FeedForwardNN:\n",
    "    def __init__(self):\n",
    "        \n",
    "        # Introducing predetermined bias terms :\n",
    "        \n",
    "        # Hidden Layers bias term :\n",
    "        self.bias = np.array([6,3,2,5]).reshape(4,1) \n",
    "        # Output Layers bias term :\n",
    "        self.bias2 = np.array([[1]])\n",
    "        \n",
    "        # Introducing predetermined weight terms :\n",
    "        \n",
    "        # Hidden Layers weight :\n",
    "        self.W1 = np.array([[2,1,4,3],[0,-3,3,3],[-3,3,-2,1],[-2,6,1,-3]]).reshape(4,4)        \n",
    "        # Output Layers weight :\n",
    "        self.W2 = np.array([2,3,4,7]).reshape(4,1)\n",
    "        \n",
    "        # Output of output layer :\n",
    "        self.A2 = None   \n",
    "        \n",
    "        # To track Mean Squared Error function :\n",
    "        self.cost = []\n",
    "        \n",
    "        \n",
    "    def step(self,X):\n",
    "        \"\"\"\n",
    "        Given the arrays, return ; \n",
    "        if {1 , X > 0 \n",
    "           {0 , X <= 0\n",
    "        \"\"\"\n",
    "        return 1 * (X > 0)    \n",
    "        \n",
    "    def fit(self,X:np.ndarray,Y:np.ndarray) -> None: \n",
    "        \"\"\"\n",
    "        Given the traning dataset and their labels,\n",
    "        fitting the model, and measure the performance\n",
    "        by validating training dataset.\n",
    "        \"\"\"\n",
    "        # Concatenating hidden layers weights and bias term :\n",
    "        W1 = np.concatenate((self.W1,self.bias),axis = 1)\n",
    "        \n",
    "        # Feed Forwarding :\n",
    "        Z1 = np.dot(X,W1) \n",
    "        \n",
    "        # Output of the activation function : (0/1)\n",
    "        A1 = self.step(Z1)\n",
    "        \n",
    "        # Same procedure for output layer :\n",
    "        W2 = np.concatenate((self.W2,self.bias2))\n",
    "        Z2 = np.dot(A1,W2) \n",
    "        self.A2 = self.step(Z2)\n",
    "        \n",
    "        # Error = Output of the output layer - Training label\n",
    "        E = self.A2-Y\n",
    "        \n",
    "        # Mean Squared Error :\n",
    "        MSE = (1/2) * np.abs(np.power(E,2).sum())\n",
    "        self.cost.append(MSE)\n",
    "                \n",
    "    def evaluate(self,target_features):\n",
    "        \"\"\"\n",
    "        Comparing the target labels by neural network's\n",
    "        outputs, then returning accuracy score\n",
    "        \"\"\"\n",
    "        acc = (self.A2 == target_features).all().mean()\n",
    "        print(f\"Accuracy of the model is: {int(acc*100)}%\")\n",
    "        return int(acc*100)  \n",
    "    \n",
    "    def predict(self,X):\n",
    "        \"\"\"\n",
    "        Feed forwarding from the input nodes, through the hidden nodes \n",
    "        and to the output nodes.\n",
    "        \"\"\"\n",
    "        return self.step(np.dot(self.step(np.dot(X,self.W1)),self.W2))  \n",
    "    \n",
    "    def display_results(self):\n",
    "        \"\"\"\n",
    "        Plotting and displaying the Mean Sqaured Error\n",
    "        \n",
    "        \"\"\"\n",
    "        print(f\"MSE loss is : {self.cost[-1]}\")\n",
    "        plt.plot(range(len(np.squeeze(np.array(self.cost)))),np.squeeze(np.array(self.cost)))\n",
    "        plt.legend([f\"MSE:{round(self.cost[-1],4)}\"])\n",
    "        plt.xlabel('# of Iterations')\n",
    "        plt.ylabel('MSE Loss Function')\n",
    "        plt.title('Model evaluation')        \n",
    "\n",
    "   "
   ]
  },
  {
   "cell_type": "code",
   "execution_count": 6,
   "metadata": {},
   "outputs": [
    {
     "name": "stdout",
     "output_type": "stream",
     "text": [
      "Accuracy of the model is: 100%\n"
     ]
    },
    {
     "data": {
      "text/plain": [
       "100"
      ]
     },
     "execution_count": 6,
     "metadata": {},
     "output_type": "execute_result"
    }
   ],
   "source": [
    "model_partA = FeedForwardNN()\n",
    "model_partA.fit(input_features,target_output)\n",
    "model_partA.evaluate(target_output)"
   ]
  },
  {
   "cell_type": "code",
   "execution_count": null,
   "metadata": {},
   "outputs": [],
   "source": []
  },
  {
   "cell_type": "code",
   "execution_count": null,
   "metadata": {},
   "outputs": [],
   "source": []
  },
  {
   "cell_type": "code",
   "execution_count": null,
   "metadata": {},
   "outputs": [],
   "source": []
  },
  {
   "cell_type": "code",
   "execution_count": null,
   "metadata": {},
   "outputs": [],
   "source": []
  },
  {
   "cell_type": "markdown",
   "metadata": {},
   "source": [
    "## Part C"
   ]
  },
  {
   "cell_type": "code",
   "execution_count": 7,
   "metadata": {},
   "outputs": [],
   "source": [
    "class MultiLayerPerceptron:\n",
    "    def __init__(self):        \n",
    "         \n",
    "        # Introducing weight and bias terms,\n",
    "        # by standart normal distribution over 0\n",
    "        \n",
    "        np.random.seed(42)\n",
    "        \n",
    "        # Hidden Layers bias term :       \n",
    "        self.B1 = np.random.randn(4,1)\n",
    "        # Output Layers bias term :\n",
    "        self.B2 = np.array([[1]])\n",
    "        \n",
    "        # Learning rate for gradient descent :\n",
    "        self.lr = 0.05   \n",
    "                        \n",
    "        # Hidden Layers weight :\n",
    "        self.W1 = np.random.randn(4,4) * 0.01\n",
    "        # Output layers weight\n",
    "        self.W2 = np.random.randn(4,1) * 0.01\n",
    "        \n",
    "        # To track Mean Squared Error function :\n",
    "        self.cost = []\n",
    "        \n",
    "        # Concatenating weights and bias terms :\n",
    "        self.W1 = np.concatenate((self.W1,self.B1),axis = 1)\n",
    "        self.W2 = np.concatenate((self.W2,self.B2))\n",
    "        \n",
    "        # Output of the output layer\n",
    "        self.A2 = None\n",
    "        \n",
    "    def sigmoid(self,X:np.ndarray):\n",
    "        return 1/(1+np.exp(-X))\n",
    "    \n",
    "    def sigmoid_der(self,X:np.ndarray):\n",
    "        \"\"\"\n",
    "        The derivative of Sigmoid function for\n",
    "        gradient descent while backproparagation\n",
    "        \"\"\"\n",
    "        return self.sigmoid(X)*(1-self.sigmoid(X))\n",
    "    \n",
    "    \n",
    "    def fit(self,X:np.ndarray,Y:np.ndarray,iterations:int,verbose:True):\n",
    "        \"\"\"\n",
    "        Given the traning dataset,their labels and number of epochs\n",
    "        fitting the model, and measure the performance\n",
    "        by validating training dataset.\n",
    "        \"\"\"                \n",
    "         \n",
    "        for epoch in range(iterations):\n",
    "            \n",
    "            # Feed forwarding :\n",
    "            Z1 = np.dot(X,self.W1) \n",
    "            \n",
    "            # Output of the hidden layer :\n",
    "            A1 = self.sigmoid(Z1)\n",
    "            \n",
    "            # İnput of the output layer :\n",
    "            Z2 = np.dot(A1,self.W2) \n",
    "            # Output of the output layer :\n",
    "            self.A2 = self.sigmoid(Z2)\n",
    "            \n",
    "            # Calculating error\n",
    "            E = self.A2-Y\n",
    "            \n",
    "            # Mean sqaured error :\n",
    "            MSE = (1/2) * np.abs(np.power(E,2).sum())\n",
    "            self.cost.append(MSE)\n",
    "            \n",
    "            if verbose == True:\n",
    "                if epoch % 500 == 0:\n",
    "                    print(f\"The epoch num is: {epoch} ------> MSE is : {MSE}\")\n",
    "                    \n",
    "            # Back propagation part, updating weights and bias term\n",
    "            # according to the gradient descent algorithm, in the first phase\n",
    "            # I computed effect of the outputs layers weights on the loss function.\n",
    "            # Them, in the second phase, I computed the effect of the hidden layers\n",
    "            # weight on the Error function. Finally, update the weights and biases.\n",
    "            \n",
    "#----------------------- First Phase ------------------------------------#\n",
    "            # The derivative of the Error with respect to the output :\n",
    "            dE_dA2 = E \n",
    "            # The derivative of output with respect to input to the output layer :\n",
    "            dA2_dZ2 = self.sigmoid_der(Z2)\n",
    "            dE_dZ2 = E * dA2_dZ2\n",
    "            \n",
    "            # The derivative of the input function of output layer with respect to weights of\n",
    "            # the output layer :\n",
    "            dZ2_dW2 = A1.T\n",
    "            \n",
    "            # Total derivate :\n",
    "            dE_dW2 = np.dot(dZ2_dW2,dE_dZ2)\n",
    "            \n",
    "#----------------------- Second Phase ------------------------------------# \n",
    "            # Goal is to find the effect of the hidden layers weight \n",
    "            # on the output of neural network so we should find\n",
    "        \n",
    "            # The derivate of the Error function with respect to output of the hidden layer\n",
    "            dE_dA1 = np.dot(dE_dZ2,self.W2.T)\n",
    "            \n",
    "            # The derivative of the outputs of the hidden layer with respect to input to the \n",
    "            # hidden layer :\n",
    "            dA1_dZ1 = self.sigmoid_der(Z1)\n",
    "            \n",
    "            # Multiplication of above two :\n",
    "            dE_dZ1= dE_dA1 * dA1_dZ1\n",
    "            \n",
    "            # The derivative of the input of the hidden layer with respect to the weights of\n",
    "            # the hidden layer :\n",
    "            dZ1_dW1 = X.T\n",
    "            \n",
    "            # Total derivative:\n",
    "            dE_dW1 = np.dot(dZ1_dW1,dE_dZ1)\n",
    "            \n",
    "            # Updating weights and biases\n",
    "            self.W1 -= self.lr * dE_dW1\n",
    "            self.W2 -= self.lr * dE_dW2\n",
    "            \n",
    "                            \n",
    "    def accuracy(self,Y):\n",
    "        \"\"\"\n",
    "        Given the test labels of the training test, comparing and\n",
    "        returning the accuracy of the model\n",
    "        \"\"\"\n",
    "        acc = (self.A2 == target_features).all().mean()\n",
    "        print(f\"Accuracy of the model is: {int(acc*100)}%\")\n",
    "        return int(acc*100)\n",
    "    \n",
    "    def predict(self,X):\n",
    "        \"\"\"\n",
    "        Feed forwarding from the input nodes, through the hidden nodes \n",
    "        and to the output nodes.\n",
    "        \"\"\"\n",
    "        return self.sigmoid(np.dot(self.sigmoid(np.dot(X,self.W1)),self.W2))  \n",
    "    \n",
    "    def evaluate(self):  \n",
    "        \"\"\"Plotting and displaying the Mean Sqaured Error :        \n",
    "        \"\"\"\n",
    "        print(f\"MSE loss is : {self.cost[-1]}\")\n",
    "        plt.plot(range(len(np.squeeze(np.array(self.cost)))),np.squeeze(np.array(self.cost)))\n",
    "        plt.legend([f\"MSE:{round(self.cost[-1],4)}\"])\n",
    "        plt.xlabel('# of Iterations')\n",
    "        plt.ylabel('MSE Loss Function')\n",
    "        plt.title('Model evaluation') \n",
    "        "
   ]
  },
  {
   "cell_type": "code",
   "execution_count": 8,
   "metadata": {},
   "outputs": [
    {
     "name": "stdout",
     "output_type": "stream",
     "text": [
      "The epoch num is: 0 ------> MSE is : 0.9619788868874422\n",
      "The epoch num is: 500 ------> MSE is : 0.40325494024751635\n",
      "The epoch num is: 1000 ------> MSE is : 0.3795212467800225\n",
      "The epoch num is: 1500 ------> MSE is : 0.35341330636682233\n",
      "The epoch num is: 2000 ------> MSE is : 0.3132202597072006\n",
      "The epoch num is: 2500 ------> MSE is : 0.22804025638377756\n",
      "The epoch num is: 3000 ------> MSE is : 0.12364572046893026\n",
      "The epoch num is: 3500 ------> MSE is : 0.06851007874362827\n",
      "The epoch num is: 4000 ------> MSE is : 0.04303458148591599\n",
      "The epoch num is: 4500 ------> MSE is : 0.02982426525555422\n",
      "The epoch num is: 5000 ------> MSE is : 0.022157507630476345\n",
      "The epoch num is: 5500 ------> MSE is : 0.017304044604442875\n",
      "The epoch num is: 6000 ------> MSE is : 0.014021648979712172\n",
      "The epoch num is: 6500 ------> MSE is : 0.01168555922122016\n",
      "The epoch num is: 7000 ------> MSE is : 0.009954768413604405\n",
      "The epoch num is: 7500 ------> MSE is : 0.008630360355893677\n",
      "The epoch num is: 8000 ------> MSE is : 0.00758981041000524\n",
      "The epoch num is: 8500 ------> MSE is : 0.006754161786226416\n",
      "The epoch num is: 9000 ------> MSE is : 0.006070567000719698\n",
      "The epoch num is: 9500 ------> MSE is : 0.005502496156775224\n",
      "The epoch num is: 10000 ------> MSE is : 0.005023990645568032\n",
      "The epoch num is: 10500 ------> MSE is : 0.004616156571682226\n",
      "The epoch num is: 11000 ------> MSE is : 0.004264950995831126\n",
      "The epoch num is: 11500 ------> MSE is : 0.00395974212121355\n",
      "The epoch num is: 12000 ------> MSE is : 0.003692347909741339\n",
      "The epoch num is: 12500 ------> MSE is : 0.003456378983124807\n",
      "The epoch num is: 13000 ------> MSE is : 0.0032467800236260043\n",
      "The epoch num is: 13500 ------> MSE is : 0.0030595036459289755\n",
      "The epoch num is: 14000 ------> MSE is : 0.002891274507601646\n",
      "The epoch num is: 14500 ------> MSE is : 0.0027394160426920263\n",
      "The epoch num is: 15000 ------> MSE is : 0.0026017213952253967\n",
      "The epoch num is: 15500 ------> MSE is : 0.0024763560350119407\n",
      "The epoch num is: 16000 ------> MSE is : 0.002361783407181838\n",
      "The epoch num is: 16500 ------> MSE is : 0.0022567075474218793\n",
      "The epoch num is: 17000 ------> MSE is : 0.002160028344690801\n",
      "The epoch num is: 17500 ------> MSE is : 0.0020708063378806524\n",
      "The epoch num is: 18000 ------> MSE is : 0.0019882347740602826\n",
      "The epoch num is: 18500 ------> MSE is : 0.0019116172510148988\n",
      "The epoch num is: 19000 ------> MSE is : 0.0018403496929382164\n",
      "The epoch num is: 19500 ------> MSE is : 0.0017739057167865887\n",
      "The epoch num is: 20000 ------> MSE is : 0.0017118246727504962\n",
      "The epoch num is: 20500 ------> MSE is : 0.001653701809354282\n",
      "The epoch num is: 21000 ------> MSE is : 0.0015991801383704162\n",
      "The epoch num is: 21500 ------> MSE is : 0.0015479436686039838\n",
      "The epoch num is: 22000 ------> MSE is : 0.0014997117488656344\n",
      "The epoch num is: 22500 ------> MSE is : 0.0014542343149773808\n",
      "The epoch num is: 23000 ------> MSE is : 0.0014112878776859378\n",
      "The epoch num is: 23500 ------> MSE is : 0.0013706721209835303\n",
      "The epoch num is: 24000 ------> MSE is : 0.0013322070058302414\n",
      "The epoch num is: 24500 ------> MSE is : 0.0012957302943198581\n",
      "The epoch num is: 25000 ------> MSE is : 0.0012610954251905792\n",
      "The epoch num is: 25500 ------> MSE is : 0.0012281696842001899\n",
      "The epoch num is: 26000 ------> MSE is : 0.0011968326229795446\n",
      "The epoch num is: 26500 ------> MSE is : 0.0011669746880950836\n",
      "The epoch num is: 27000 ------> MSE is : 0.0011384960286106081\n",
      "The epoch num is: 27500 ------> MSE is : 0.001111305455764613\n",
      "The epoch num is: 28000 ------> MSE is : 0.0010853195327236434\n",
      "The epoch num is: 28500 ------> MSE is : 0.0010604617759309412\n",
      "The epoch num is: 29000 ------> MSE is : 0.0010366619524971902\n",
      "The epoch num is: 29500 ------> MSE is : 0.0010138554604980665\n",
      "The epoch num is: 30000 ------> MSE is : 0.0009919827810478264\n",
      "The epoch num is: 30500 ------> MSE is : 0.0009709889926864963\n",
      "The epoch num is: 31000 ------> MSE is : 0.0009508233400112932\n",
      "The epoch num is: 31500 ------> MSE is : 0.0009314388496500897\n",
      "The epoch num is: 32000 ------> MSE is : 0.0009127919876565141\n",
      "The epoch num is: 32500 ------> MSE is : 0.0008948423532336596\n",
      "The epoch num is: 33000 ------> MSE is : 0.0008775524043939309\n",
      "The epoch num is: 33500 ------> MSE is : 0.0008608872117563787\n",
      "The epoch num is: 34000 ------> MSE is : 0.0008448142371887942\n",
      "The epoch num is: 34500 ------> MSE is : 0.0008293031344327856\n",
      "The epoch num is: 35000 ------> MSE is : 0.0008143255692194264\n",
      "The epoch num is: 35500 ------> MSE is : 0.0007998550566993827\n",
      "The epoch num is: 36000 ------> MSE is : 0.0007858668142836539\n",
      "The epoch num is: 36500 ------> MSE is : 0.00077233762822569\n",
      "The epoch num is: 37000 ------> MSE is : 0.0007592457324782079\n",
      "The epoch num is: 37500 ------> MSE is : 0.0007465706985336054\n",
      "The epoch num is: 38000 ------> MSE is : 0.0007342933351092174\n",
      "The epoch num is: 38500 ------> MSE is : 0.0007223955966708912\n",
      "The epoch num is: 39000 ------> MSE is : 0.0007108604999040691\n",
      "The epoch num is: 39500 ------> MSE is : 0.0006996720473421378\n",
      "The epoch num is: 40000 ------> MSE is : 0.0006888151574500179\n",
      "The epoch num is: 40500 ------> MSE is : 0.0006782756005383647\n",
      "The epoch num is: 41000 ------> MSE is : 0.0006680399399515503\n",
      "The epoch num is: 41500 ------> MSE is : 0.0006580954780323251\n",
      "The epoch num is: 42000 ------> MSE is : 0.0006484302064187239\n",
      "The epoch num is: 42500 ------> MSE is : 0.0006390327602751635\n",
      "The epoch num is: 43000 ------> MSE is : 0.00062989237610096\n",
      "The epoch num is: 43500 ------> MSE is : 0.0006209988527955857\n",
      "The epoch num is: 44000 ------> MSE is : 0.0006123425156926255\n",
      "The epoch num is: 44500 ------> MSE is : 0.0006039141833026682\n",
      "The epoch num is: 45000 ------> MSE is : 0.0005957051365313234\n",
      "The epoch num is: 45500 ------> MSE is : 0.0005877070901608983\n",
      "The epoch num is: 46000 ------> MSE is : 0.0005799121664048471\n",
      "The epoch num is: 46500 ------> MSE is : 0.0005723128703620848\n",
      "The epoch num is: 47000 ------> MSE is : 0.0005649020672145237\n",
      "The epoch num is: 47500 ------> MSE is : 0.0005576729610257127\n",
      "The epoch num is: 48000 ------> MSE is : 0.0005506190750115651\n",
      "The epoch num is: 48500 ------> MSE is : 0.0005437342331657141\n",
      "The epoch num is: 49000 ------> MSE is : 0.0005370125431328357\n",
      "The epoch num is: 49500 ------> MSE is : 0.0005304483802324302\n"
     ]
    }
   ],
   "source": [
    "model_partC = MultiLayerPerceptron()\n",
    "model_partC.fit(X = input_features,Y = target_output,iterations = 50000,verbose = True )"
   ]
  },
  {
   "cell_type": "code",
   "execution_count": 9,
   "metadata": {},
   "outputs": [
    {
     "name": "stdout",
     "output_type": "stream",
     "text": [
      "MSE loss is : 0.0005240490481591191\n"
     ]
    },
    {
     "data": {
      "image/png": "[encoded data removed]",
      "text/plain": [
       "<Figure size 576x288 with 1 Axes>"
      ]
     },
     "metadata": {
      "needs_background": "light"
     },
     "output_type": "display_data"
    }
   ],
   "source": [
    "plt.figure(figsize = (8,4))\n",
    "model_partC.evaluate()"
   ]
  },
  {
   "cell_type": "code",
   "execution_count": 10,
   "metadata": {},
   "outputs": [
    {
     "name": "stdout",
     "output_type": "stream",
     "text": [
      "Most Robust Weights of Hidden Layer \n",
      " [[-1.26240984 -1.46796279 -1.43157073 -1.60343491  2.90054917]\n",
      " [-1.26238999 -1.46804527 -1.44813112 -1.61921153  2.85520524]\n",
      " [-1.2505314  -1.46779474 -1.44178554 -1.5993274   2.9085472 ]\n",
      " [-1.24683938 -1.43399215 -1.41755183 -1.57873098  3.03688246]]\n"
     ]
    }
   ],
   "source": [
    "print(f\"Most Robust Weights of Hidden Layer \\n {model_partC.W1}\")"
   ]
  },
  {
   "cell_type": "code",
   "execution_count": 11,
   "metadata": {},
   "outputs": [
    {
     "name": "stdout",
     "output_type": "stream",
     "text": [
      "Most Robust Weights of Output Layer \n",
      " [[-3.32662012]\n",
      " [-3.86788154]\n",
      " [-3.79990092]\n",
      " [-4.26749739]\n",
      " [ 7.80405911]]\n"
     ]
    }
   ],
   "source": [
    "print(f\"Most Robust Weights of Output Layer \\n {model_partC.W2}\")"
   ]
  },
  {
   "cell_type": "markdown",
   "metadata": {},
   "source": [
    "## Part D"
   ]
  },
  {
   "cell_type": "code",
   "execution_count": 12,
   "metadata": {},
   "outputs": [],
   "source": [
    "# Creating 400 x 4 zero matrix :\n",
    "input = np.zeros(1600).reshape(400,4)\n",
    "\n",
    "# Generating 400 input sample = 16 x 25\n",
    "for i in range(16):\n",
    "    for j in range(25):\n",
    "        input[i*25+j,:] = input_features[i]\n",
    "\n",
    "# Noice matrix with Gaussion distribution zero mean 0.2 std.\n",
    "noise = np.random.normal(loc = 0 , scale = 0.2 ,size = (400,4))\n",
    "\n",
    "# Concetaneting\n",
    "noisy_samples = input + noise"
   ]
  },
  {
   "cell_type": "code",
   "execution_count": 13,
   "metadata": {},
   "outputs": [
    {
     "name": "stdout",
     "output_type": "stream",
     "text": [
      " The shape of noisy samples: (400, 4)\n"
     ]
    }
   ],
   "source": [
    "print(f\" The shape of noisy samples: {noisy_samples.shape}\")"
   ]
  },
  {
   "cell_type": "code",
   "execution_count": 14,
   "metadata": {},
   "outputs": [],
   "source": [
    "# The predictions on the model created in the Part A :\n",
    "model_A_pred = model_partA.predict(noisy_samples)"
   ]
  },
  {
   "cell_type": "code",
   "execution_count": null,
   "metadata": {},
   "outputs": [],
   "source": []
  },
  {
   "cell_type": "code",
   "execution_count": 15,
   "metadata": {},
   "outputs": [],
   "source": [
    "# # The predictions on the model created in the Part C :\n",
    "model_C_pred = model_partC.predict(noisy_samples)"
   ]
  },
  {
   "cell_type": "code",
   "execution_count": null,
   "metadata": {},
   "outputs": [],
   "source": []
  },
  {
   "cell_type": "code",
   "execution_count": 16,
   "metadata": {},
   "outputs": [],
   "source": [
    "# Generating testing labels :\n",
    "test_labels = np.repeat(1,400).reshape(400,1)\n",
    "test_labels[:25] = 0"
   ]
  },
  {
   "cell_type": "code",
   "execution_count": null,
   "metadata": {},
   "outputs": [],
   "source": []
  },
  {
   "cell_type": "code",
   "execution_count": 17,
   "metadata": {},
   "outputs": [],
   "source": [
    "# Rounding the predictions of the model created\n",
    "# in the Part C since sigmoid function returns the\n",
    "# predictions in the interval [0,1]. \n",
    "model_C_pred = np.round(model_C_pred)"
   ]
  },
  {
   "cell_type": "code",
   "execution_count": 18,
   "metadata": {},
   "outputs": [],
   "source": [
    "def performance(X1,X2):\n",
    "    \"\"\"\n",
    "    Given two arrays, prediction matrix and\n",
    "    test matrix, comparing and returning the number\n",
    "    of true predictions\n",
    "    \"\"\"\n",
    "    \n",
    "    assert(X1.shape == X2.shape) \n",
    "    \n",
    "    true_pred = 0\n",
    "    \n",
    "    for i in range(X1.shape[0]):\n",
    "        if int(X1[i]) == 1*int(X2[i]):\n",
    "            true_pred += 1\n",
    "    return true_pred"
   ]
  },
  {
   "cell_type": "code",
   "execution_count": 19,
   "metadata": {},
   "outputs": [],
   "source": [
    "model_A_perf = performance(model_A_pred,test_labels)\n",
    "model_C_perf = performance(model_C_pred,test_labels)"
   ]
  },
  {
   "cell_type": "code",
   "execution_count": 20,
   "metadata": {},
   "outputs": [
    {
     "name": "stdout",
     "output_type": "stream",
     "text": [
      "The Accuracy of Model Part A is: 94.0% \n",
      "\n",
      "The Accuracy of Model Part C is: 97.75% \n"
     ]
    }
   ],
   "source": [
    "print(f\"The Accuracy of Model Part A is: {(model_A_perf/test_labels.shape[0]) * 100}% \\n\")\n",
    "print(f\"The Accuracy of Model Part C is: {(model_C_perf/test_labels.shape[0]) * 100}% \")"
   ]
  },
  {
   "cell_type": "code",
   "execution_count": null,
   "metadata": {},
   "outputs": [],
   "source": []
  },
  {
   "cell_type": "code",
   "execution_count": null,
   "metadata": {},
   "outputs": [],
   "source": []
  },
  {
   "cell_type": "code",
   "execution_count": null,
   "metadata": {},
   "outputs": [],
   "source": []
  },
  {
   "cell_type": "code",
   "execution_count": null,
   "metadata": {},
   "outputs": [],
   "source": []
  },
  {
   "cell_type": "code",
   "execution_count": null,
   "metadata": {},
   "outputs": [],
   "source": []
  }
 ],
 "metadata": {
  "kernelspec": {
   "display_name": "Python 3",
   "language": "python",
   "name": "python3"
  },
  "language_info": {
   "codemirror_mode": {
    "name": "ipython",
    "version": 3
   },
   "file_extension": ".py",
   "mimetype": "text/x-python",
   "name": "python",
   "nbconvert_exporter": "python",
   "pygments_lexer": "ipython3",
   "version": "3.6.10"
  }
 },
 "nbformat": 4,
 "nbformat_minor": 2
}
